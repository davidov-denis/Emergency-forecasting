{
 "cells": [
  {
   "cell_type": "code",
   "execution_count": 2,
   "id": "initial_id",
   "metadata": {
    "collapsed": true,
    "ExecuteTime": {
     "end_time": "2024-04-23T20:40:18.210327200Z",
     "start_time": "2024-04-23T20:40:17.931136900Z"
    }
   },
   "outputs": [],
   "source": [
    "import pandas as pd"
   ]
  },
  {
   "cell_type": "code",
   "outputs": [
    {
     "data": {
      "text/plain": "cdPn                      0\ncgPn                      0\nhrId                 448377\nname                 448377\ntype                 448377\nierId                     0\nlevel                448377\npoint                447991\nstate                448377\naction                    0\ncardId               448377\nisNear                    0\nregion               448377\nierType                   0\ncityCode                  0\nisDanger                  0\nisDanger             448377\nregionId             448377\ncityFiasId                0\nisBlocking           448377\nisMalicius                0\nlostNumber           448377\nmembership           448377\nstreetCode                0\ntimeIsoStr           448377\nisChemFlood          448377\ndispatchesId              1\ndistrictCode              0\nstreetFiasId              0\nclarification             0\ninjuredNumber        448376\nresponseStatus       448377\nactionTimeIsoStr          1\nassignTimeIsoStr     168894\nacceptOperatorFio         0\nacceptOperatorStr         0\nUnnamed: 36               0\nUnnamed: 37               0\nUnnamed: 38               0\nUnnamed: 39               0\ndtype: int64"
     },
     "execution_count": 3,
     "metadata": {},
     "output_type": "execute_result"
    }
   ],
   "source": [
    "df_01_06_2020 = pd.read_pickle(\"..\\data\\\\01-06.2020.pkl\")\n",
    "df_01_06_2020.head()\n",
    "\n",
    "df_01_06_2020.count()"
   ],
   "metadata": {
    "collapsed": false,
    "ExecuteTime": {
     "end_time": "2024-04-23T20:40:19.054151400Z",
     "start_time": "2024-04-23T20:40:18.211879900Z"
    }
   },
   "id": "fce3f212be170c6c",
   "execution_count": 3
  },
  {
   "cell_type": "code",
   "outputs": [
    {
     "data": {
      "text/plain": "0    cdPn                   hrId                                        name  \\\n1  100090      янв04_Справка_294                           Получение справок   \n2     NaN      янв03_Справка_011                           Получение справок   \n3  100029    янв03_НепрПоним_011  Неправильное понимание экстренной ситуации   \n4  100037  янв07_ПсихНеуравн_033            Психически неуравновешенные люди   \n5     NaN    фев15_не_задано_013                                   не задано   \n\n0                                        type  \\\n1                           Получение справок   \n2                           Получение справок   \n3  Неправильное понимание экстренной ситуации   \n4            Психически неуравновешенные люди   \n5                                   не задано   \n\n0                                 ierId    level  \\\n1  07284594-f4e4-4d18-abd7-aca6013a2cb0  Обычный   \n2                                   NaN  Обычный   \n3  e29f659b-3c2d-4aef-97d5-aca50028214d  Обычный   \n4  e2de6b00-4913-46bf-ae8d-aca9003ed22a  Обычный   \n5                                   NaN  Обычный   \n\n0                               point             state action  \\\n1  [{\"lat\": 48.7445, \"lon\": 44.5188}]  Карточка закрыта    NaN   \n2   [{\"lat\": 48.789, \"lon\": 44.7763}]  Карточка закрыта    NaN   \n3  [{\"lat\": 48.7758, \"lon\": 44.7994}]  Карточка закрыта    NaN   \n4  [{\"lat\": 50.0712, \"lon\": 45.3843}]  Карточка закрыта    NaN   \n5                                 NaN  Карточка закрыта    NaN   \n\n0                                cardId  ... clarification injuredNumber  \\\n1  acaa9603-48c4-40f0-8705-aca6013aac67  ...           NaN             0   \n2  8556cb55-a7b0-450b-addf-aca5002a1619  ...           NaN             0   \n3  d3c7d78f-adb1-4ce3-b3e7-aca5002862ed  ...           NaN             0   \n4  2aaa9a25-5cc6-481b-9c8d-aca9003eecc5  ...           NaN             0   \n5  15b35090-6581-4e35-8959-acd0009bb9db  ...           NaN             0   \n\n0 responseStatus actionTimeIsoStr assignTimeIsoStr  \\\n1            200              NaN              NaN   \n2            200              NaN              NaN   \n3            200              NaN              NaN   \n4            200              NaN              NaN   \n5            200              NaN              NaN   \n\n0             acceptOperatorFio acceptOperatorStr NaN  NaN  NaN  \n1  Костюхова Евгения Васильевна        Operator90 NaN  NaN  NaN  \n2                           NaN               NaN NaN  NaN  NaN  \n3   Яковлева Надежда Васильевна        Operator29 NaN  NaN  NaN  \n4  Алейникова Валерия Сергеевна        Operator37 NaN  NaN  NaN  \n5                           NaN               NaN NaN  NaN  NaN  \n\n[5 rows x 38 columns]",
      "text/html": "<div>\n<style scoped>\n    .dataframe tbody tr th:only-of-type {\n        vertical-align: middle;\n    }\n\n    .dataframe tbody tr th {\n        vertical-align: top;\n    }\n\n    .dataframe thead th {\n        text-align: right;\n    }\n</style>\n<table border=\"1\" class=\"dataframe\">\n  <thead>\n    <tr style=\"text-align: right;\">\n      <th></th>\n      <th>cdPn</th>\n      <th>hrId</th>\n      <th>name</th>\n      <th>type</th>\n      <th>ierId</th>\n      <th>level</th>\n      <th>point</th>\n      <th>state</th>\n      <th>action</th>\n      <th>cardId</th>\n      <th>...</th>\n      <th>clarification</th>\n      <th>injuredNumber</th>\n      <th>responseStatus</th>\n      <th>actionTimeIsoStr</th>\n      <th>assignTimeIsoStr</th>\n      <th>acceptOperatorFio</th>\n      <th>acceptOperatorStr</th>\n      <th>NaN</th>\n      <th>NaN</th>\n      <th>NaN</th>\n    </tr>\n  </thead>\n  <tbody>\n    <tr>\n      <th>1</th>\n      <td>100090</td>\n      <td>янв04_Справка_294</td>\n      <td>Получение справок</td>\n      <td>Получение справок</td>\n      <td>07284594-f4e4-4d18-abd7-aca6013a2cb0</td>\n      <td>Обычный</td>\n      <td>[{\"lat\": 48.7445, \"lon\": 44.5188}]</td>\n      <td>Карточка закрыта</td>\n      <td>NaN</td>\n      <td>acaa9603-48c4-40f0-8705-aca6013aac67</td>\n      <td>...</td>\n      <td>NaN</td>\n      <td>0</td>\n      <td>200</td>\n      <td>NaN</td>\n      <td>NaN</td>\n      <td>Костюхова Евгения Васильевна</td>\n      <td>Operator90</td>\n      <td>NaN</td>\n      <td>NaN</td>\n      <td>NaN</td>\n    </tr>\n    <tr>\n      <th>2</th>\n      <td>NaN</td>\n      <td>янв03_Справка_011</td>\n      <td>Получение справок</td>\n      <td>Получение справок</td>\n      <td>NaN</td>\n      <td>Обычный</td>\n      <td>[{\"lat\": 48.789, \"lon\": 44.7763}]</td>\n      <td>Карточка закрыта</td>\n      <td>NaN</td>\n      <td>8556cb55-a7b0-450b-addf-aca5002a1619</td>\n      <td>...</td>\n      <td>NaN</td>\n      <td>0</td>\n      <td>200</td>\n      <td>NaN</td>\n      <td>NaN</td>\n      <td>NaN</td>\n      <td>NaN</td>\n      <td>NaN</td>\n      <td>NaN</td>\n      <td>NaN</td>\n    </tr>\n    <tr>\n      <th>3</th>\n      <td>100029</td>\n      <td>янв03_НепрПоним_011</td>\n      <td>Неправильное понимание экстренной ситуации</td>\n      <td>Неправильное понимание экстренной ситуации</td>\n      <td>e29f659b-3c2d-4aef-97d5-aca50028214d</td>\n      <td>Обычный</td>\n      <td>[{\"lat\": 48.7758, \"lon\": 44.7994}]</td>\n      <td>Карточка закрыта</td>\n      <td>NaN</td>\n      <td>d3c7d78f-adb1-4ce3-b3e7-aca5002862ed</td>\n      <td>...</td>\n      <td>NaN</td>\n      <td>0</td>\n      <td>200</td>\n      <td>NaN</td>\n      <td>NaN</td>\n      <td>Яковлева Надежда Васильевна</td>\n      <td>Operator29</td>\n      <td>NaN</td>\n      <td>NaN</td>\n      <td>NaN</td>\n    </tr>\n    <tr>\n      <th>4</th>\n      <td>100037</td>\n      <td>янв07_ПсихНеуравн_033</td>\n      <td>Психически неуравновешенные люди</td>\n      <td>Психически неуравновешенные люди</td>\n      <td>e2de6b00-4913-46bf-ae8d-aca9003ed22a</td>\n      <td>Обычный</td>\n      <td>[{\"lat\": 50.0712, \"lon\": 45.3843}]</td>\n      <td>Карточка закрыта</td>\n      <td>NaN</td>\n      <td>2aaa9a25-5cc6-481b-9c8d-aca9003eecc5</td>\n      <td>...</td>\n      <td>NaN</td>\n      <td>0</td>\n      <td>200</td>\n      <td>NaN</td>\n      <td>NaN</td>\n      <td>Алейникова Валерия Сергеевна</td>\n      <td>Operator37</td>\n      <td>NaN</td>\n      <td>NaN</td>\n      <td>NaN</td>\n    </tr>\n    <tr>\n      <th>5</th>\n      <td>NaN</td>\n      <td>фев15_не_задано_013</td>\n      <td>не задано</td>\n      <td>не задано</td>\n      <td>NaN</td>\n      <td>Обычный</td>\n      <td>NaN</td>\n      <td>Карточка закрыта</td>\n      <td>NaN</td>\n      <td>15b35090-6581-4e35-8959-acd0009bb9db</td>\n      <td>...</td>\n      <td>NaN</td>\n      <td>0</td>\n      <td>200</td>\n      <td>NaN</td>\n      <td>NaN</td>\n      <td>NaN</td>\n      <td>NaN</td>\n      <td>NaN</td>\n      <td>NaN</td>\n      <td>NaN</td>\n    </tr>\n  </tbody>\n</table>\n<p>5 rows × 38 columns</p>\n</div>"
     },
     "execution_count": 4,
     "metadata": {},
     "output_type": "execute_result"
    }
   ],
   "source": [
    "df_01_06_2021 = pd.read_pickle(\"..\\data\\\\01-06.2021.pkl\")\n",
    "df_01_06_2021.head()"
   ],
   "metadata": {
    "collapsed": false,
    "ExecuteTime": {
     "end_time": "2024-04-23T20:40:20.382509100Z",
     "start_time": "2024-04-23T20:40:19.054151400Z"
    }
   },
   "id": "aac7346b29f0a78",
   "execution_count": 4
  },
  {
   "cell_type": "code",
   "outputs": [
    {
     "data": {
      "text/plain": "  cdPn cgPn                       hrId  \\\n0             EHM1_июл22_СлучНабор_701   \n1            EHM1_июл22_ПрерывСвяз_466   \n2              EHM1_июл23_Молчание_215   \n3            EHM1_июл23_ПрерывСвяз_030   \n4              EHM1_июл23_Молчание_339   \n\n                                                name  \\\n0                             Случайный набор номера   \n1  Прерывание вызова звонящим сразу после подключ...   \n2                                  Вызов с молчанием   \n3  Прерывание вызова звонящим сразу после подключ...   \n4                                  Вызов с молчанием   \n\n                                                type ierId    level  \\\n0                             Случайный набор номера        Обычный   \n1  Прерывание вызова звонящим сразу после подключ...        Обычный   \n2                                  Вызов с молчанием        Обычный   \n3  Прерывание вызова звонящим сразу после подключ...        Обычный   \n4                                  Вызов с молчанием        Обычный   \n\n                                    point             state action  ...  \\\n0  [{\"lat\": 48.707103, \"lon\": 44.516939}]  Карточка закрыта         ...   \n1      [{\"lat\": 48.7747, \"lon\": 44.5791}]  Карточка закрыта         ...   \n2      [{\"lat\": 50.4091, \"lon\": 41.7607}]  Карточка закрыта         ...   \n3      [{\"lat\": 48.7526, \"lon\": 44.8027}]  Карточка закрыта         ...   \n4      [{\"lat\": 48.6755, \"lon\": 44.4471}]  Карточка закрыта         ...   \n\n  streetFiasId clarification injuredNumber responseStatus actionTimeIsoStr  \\\n0                                        0            200                    \n1                                        0            200                    \n2                                        0            200                    \n3                                        0            200                    \n4                                        0            200                    \n\n  assignTimeIsoStr acceptOperatorFio  acceptOperatorStr Unnamed: 36  \\\n0                                                               NaN   \n1                                                               NaN   \n2                                                               NaN   \n3                                                               NaN   \n4                                                               NaN   \n\n  Unnamed: 37  \n0         NaN  \n1         NaN  \n2         NaN  \n3         NaN  \n4         NaN  \n\n[5 rows x 38 columns]",
      "text/html": "<div>\n<style scoped>\n    .dataframe tbody tr th:only-of-type {\n        vertical-align: middle;\n    }\n\n    .dataframe tbody tr th {\n        vertical-align: top;\n    }\n\n    .dataframe thead th {\n        text-align: right;\n    }\n</style>\n<table border=\"1\" class=\"dataframe\">\n  <thead>\n    <tr style=\"text-align: right;\">\n      <th></th>\n      <th>cdPn</th>\n      <th>cgPn</th>\n      <th>hrId</th>\n      <th>name</th>\n      <th>type</th>\n      <th>ierId</th>\n      <th>level</th>\n      <th>point</th>\n      <th>state</th>\n      <th>action</th>\n      <th>...</th>\n      <th>streetFiasId</th>\n      <th>clarification</th>\n      <th>injuredNumber</th>\n      <th>responseStatus</th>\n      <th>actionTimeIsoStr</th>\n      <th>assignTimeIsoStr</th>\n      <th>acceptOperatorFio</th>\n      <th>acceptOperatorStr</th>\n      <th>Unnamed: 36</th>\n      <th>Unnamed: 37</th>\n    </tr>\n  </thead>\n  <tbody>\n    <tr>\n      <th>0</th>\n      <td></td>\n      <td></td>\n      <td>EHM1_июл22_СлучНабор_701</td>\n      <td>Случайный набор номера</td>\n      <td>Случайный набор номера</td>\n      <td></td>\n      <td>Обычный</td>\n      <td>[{\"lat\": 48.707103, \"lon\": 44.516939}]</td>\n      <td>Карточка закрыта</td>\n      <td></td>\n      <td>...</td>\n      <td></td>\n      <td></td>\n      <td>0</td>\n      <td>200</td>\n      <td></td>\n      <td></td>\n      <td></td>\n      <td></td>\n      <td>NaN</td>\n      <td>NaN</td>\n    </tr>\n    <tr>\n      <th>1</th>\n      <td></td>\n      <td></td>\n      <td>EHM1_июл22_ПрерывСвяз_466</td>\n      <td>Прерывание вызова звонящим сразу после подключ...</td>\n      <td>Прерывание вызова звонящим сразу после подключ...</td>\n      <td></td>\n      <td>Обычный</td>\n      <td>[{\"lat\": 48.7747, \"lon\": 44.5791}]</td>\n      <td>Карточка закрыта</td>\n      <td></td>\n      <td>...</td>\n      <td></td>\n      <td></td>\n      <td>0</td>\n      <td>200</td>\n      <td></td>\n      <td></td>\n      <td></td>\n      <td></td>\n      <td>NaN</td>\n      <td>NaN</td>\n    </tr>\n    <tr>\n      <th>2</th>\n      <td></td>\n      <td></td>\n      <td>EHM1_июл23_Молчание_215</td>\n      <td>Вызов с молчанием</td>\n      <td>Вызов с молчанием</td>\n      <td></td>\n      <td>Обычный</td>\n      <td>[{\"lat\": 50.4091, \"lon\": 41.7607}]</td>\n      <td>Карточка закрыта</td>\n      <td></td>\n      <td>...</td>\n      <td></td>\n      <td></td>\n      <td>0</td>\n      <td>200</td>\n      <td></td>\n      <td></td>\n      <td></td>\n      <td></td>\n      <td>NaN</td>\n      <td>NaN</td>\n    </tr>\n    <tr>\n      <th>3</th>\n      <td></td>\n      <td></td>\n      <td>EHM1_июл23_ПрерывСвяз_030</td>\n      <td>Прерывание вызова звонящим сразу после подключ...</td>\n      <td>Прерывание вызова звонящим сразу после подключ...</td>\n      <td></td>\n      <td>Обычный</td>\n      <td>[{\"lat\": 48.7526, \"lon\": 44.8027}]</td>\n      <td>Карточка закрыта</td>\n      <td></td>\n      <td>...</td>\n      <td></td>\n      <td></td>\n      <td>0</td>\n      <td>200</td>\n      <td></td>\n      <td></td>\n      <td></td>\n      <td></td>\n      <td>NaN</td>\n      <td>NaN</td>\n    </tr>\n    <tr>\n      <th>4</th>\n      <td></td>\n      <td></td>\n      <td>EHM1_июл23_Молчание_339</td>\n      <td>Вызов с молчанием</td>\n      <td>Вызов с молчанием</td>\n      <td></td>\n      <td>Обычный</td>\n      <td>[{\"lat\": 48.6755, \"lon\": 44.4471}]</td>\n      <td>Карточка закрыта</td>\n      <td></td>\n      <td>...</td>\n      <td></td>\n      <td></td>\n      <td>0</td>\n      <td>200</td>\n      <td></td>\n      <td></td>\n      <td></td>\n      <td></td>\n      <td>NaN</td>\n      <td>NaN</td>\n    </tr>\n  </tbody>\n</table>\n<p>5 rows × 38 columns</p>\n</div>"
     },
     "execution_count": 5,
     "metadata": {},
     "output_type": "execute_result"
    }
   ],
   "source": [
    "df_01_09_2019 = pd.read_pickle(\"..\\data\\\\01-09.2019.pkl\")\n",
    "df_01_09_2019.head()"
   ],
   "metadata": {
    "collapsed": false,
    "ExecuteTime": {
     "end_time": "2024-04-23T20:40:21.283485600Z",
     "start_time": "2024-04-23T20:40:20.383554400Z"
    }
   },
   "id": "699dbe154ef56e7",
   "execution_count": 5
  },
  {
   "cell_type": "code",
   "outputs": [
    {
     "data": {
      "text/plain": "0 cdPn                  hrId  \\\n1  NaN    июл06_Молчание_057   \n2  NaN     авг26_Справка_203   \n3  NaN   июл16_СлучНабор_023   \n4  NaN    июл06_Правонар_043   \n5  NaN  июл21_ПрерывСвяз_019   \n\n0                                               name  \\\n1                                  Вызов с молчанием   \n2                                  Получение справок   \n3                             Случайный набор номера   \n4                                     Правонарушение   \n5  Прерывание вызова звонящим сразу после подключ...   \n\n0                                               type ierId    level  \\\n1                                  Вызов с молчанием   NaN  Обычный   \n2                                  Получение справок   NaN  Обычный   \n3                             Случайный набор номера   NaN  Обычный   \n4                                     Правонарушение   NaN  Обычный   \n5  Прерывание вызова звонящим сразу после подключ...   NaN  Обычный   \n\n0                               point             state action  \\\n1  [{\"lat\": 48.6501, \"lon\": 43.6068}]  Карточка закрыта    NaN   \n2  [{\"lat\": 50.1062, \"lon\": 45.4101}]  Карточка закрыта    NaN   \n3  [{\"lat\": 48.7777, \"lon\": 44.3837}]  Карточка закрыта    NaN   \n4  [{\"lat\": 48.7938, \"lon\": 44.7527}]  Карточка закрыта    NaN   \n5  [{\"lat\": 48.7873, \"lon\": 44.7693}]  Карточка закрыта    NaN   \n\n0                                cardId  ... streetFiasId clarification  \\\n1  e1f4734b-55f3-4117-81ca-abf0004994c7  ...          NaN           NaN   \n2  a632d575-6bde-4b5e-9d27-ac230172ba02  ...          NaN           NaN   \n3  5a509f59-6492-4c17-8939-abfa00490150  ...          NaN           NaN   \n4  09fab2c4-7b11-481b-8e86-abf000498e39  ...          NaN           NaN   \n5  e6f2d880-447a-4ec3-a48c-abff0047df79  ...          NaN           NaN   \n\n0 injuredNumber responseStatus actionTimeIsoStr assignTimeIsoStr  \\\n1             0            200              NaN              NaN   \n2             0            200              NaN              NaN   \n3             0            200              NaN              NaN   \n4             0            200              NaN              NaN   \n5             0            200              NaN              NaN   \n\n0 acceptOperatorStr NaN  NaN  NaN  \n1               NaN NaN  NaN  NaN  \n2               NaN NaN  NaN  NaN  \n3               NaN NaN  NaN  NaN  \n4               NaN NaN  NaN  NaN  \n5               NaN NaN  NaN  NaN  \n\n[5 rows x 37 columns]",
      "text/html": "<div>\n<style scoped>\n    .dataframe tbody tr th:only-of-type {\n        vertical-align: middle;\n    }\n\n    .dataframe tbody tr th {\n        vertical-align: top;\n    }\n\n    .dataframe thead th {\n        text-align: right;\n    }\n</style>\n<table border=\"1\" class=\"dataframe\">\n  <thead>\n    <tr style=\"text-align: right;\">\n      <th></th>\n      <th>cdPn</th>\n      <th>hrId</th>\n      <th>name</th>\n      <th>type</th>\n      <th>ierId</th>\n      <th>level</th>\n      <th>point</th>\n      <th>state</th>\n      <th>action</th>\n      <th>cardId</th>\n      <th>...</th>\n      <th>streetFiasId</th>\n      <th>clarification</th>\n      <th>injuredNumber</th>\n      <th>responseStatus</th>\n      <th>actionTimeIsoStr</th>\n      <th>assignTimeIsoStr</th>\n      <th>acceptOperatorStr</th>\n      <th>NaN</th>\n      <th>NaN</th>\n      <th>NaN</th>\n    </tr>\n  </thead>\n  <tbody>\n    <tr>\n      <th>1</th>\n      <td>NaN</td>\n      <td>июл06_Молчание_057</td>\n      <td>Вызов с молчанием</td>\n      <td>Вызов с молчанием</td>\n      <td>NaN</td>\n      <td>Обычный</td>\n      <td>[{\"lat\": 48.6501, \"lon\": 43.6068}]</td>\n      <td>Карточка закрыта</td>\n      <td>NaN</td>\n      <td>e1f4734b-55f3-4117-81ca-abf0004994c7</td>\n      <td>...</td>\n      <td>NaN</td>\n      <td>NaN</td>\n      <td>0</td>\n      <td>200</td>\n      <td>NaN</td>\n      <td>NaN</td>\n      <td>NaN</td>\n      <td>NaN</td>\n      <td>NaN</td>\n      <td>NaN</td>\n    </tr>\n    <tr>\n      <th>2</th>\n      <td>NaN</td>\n      <td>авг26_Справка_203</td>\n      <td>Получение справок</td>\n      <td>Получение справок</td>\n      <td>NaN</td>\n      <td>Обычный</td>\n      <td>[{\"lat\": 50.1062, \"lon\": 45.4101}]</td>\n      <td>Карточка закрыта</td>\n      <td>NaN</td>\n      <td>a632d575-6bde-4b5e-9d27-ac230172ba02</td>\n      <td>...</td>\n      <td>NaN</td>\n      <td>NaN</td>\n      <td>0</td>\n      <td>200</td>\n      <td>NaN</td>\n      <td>NaN</td>\n      <td>NaN</td>\n      <td>NaN</td>\n      <td>NaN</td>\n      <td>NaN</td>\n    </tr>\n    <tr>\n      <th>3</th>\n      <td>NaN</td>\n      <td>июл16_СлучНабор_023</td>\n      <td>Случайный набор номера</td>\n      <td>Случайный набор номера</td>\n      <td>NaN</td>\n      <td>Обычный</td>\n      <td>[{\"lat\": 48.7777, \"lon\": 44.3837}]</td>\n      <td>Карточка закрыта</td>\n      <td>NaN</td>\n      <td>5a509f59-6492-4c17-8939-abfa00490150</td>\n      <td>...</td>\n      <td>NaN</td>\n      <td>NaN</td>\n      <td>0</td>\n      <td>200</td>\n      <td>NaN</td>\n      <td>NaN</td>\n      <td>NaN</td>\n      <td>NaN</td>\n      <td>NaN</td>\n      <td>NaN</td>\n    </tr>\n    <tr>\n      <th>4</th>\n      <td>NaN</td>\n      <td>июл06_Правонар_043</td>\n      <td>Правонарушение</td>\n      <td>Правонарушение</td>\n      <td>NaN</td>\n      <td>Обычный</td>\n      <td>[{\"lat\": 48.7938, \"lon\": 44.7527}]</td>\n      <td>Карточка закрыта</td>\n      <td>NaN</td>\n      <td>09fab2c4-7b11-481b-8e86-abf000498e39</td>\n      <td>...</td>\n      <td>NaN</td>\n      <td>NaN</td>\n      <td>0</td>\n      <td>200</td>\n      <td>NaN</td>\n      <td>NaN</td>\n      <td>NaN</td>\n      <td>NaN</td>\n      <td>NaN</td>\n      <td>NaN</td>\n    </tr>\n    <tr>\n      <th>5</th>\n      <td>NaN</td>\n      <td>июл21_ПрерывСвяз_019</td>\n      <td>Прерывание вызова звонящим сразу после подключ...</td>\n      <td>Прерывание вызова звонящим сразу после подключ...</td>\n      <td>NaN</td>\n      <td>Обычный</td>\n      <td>[{\"lat\": 48.7873, \"lon\": 44.7693}]</td>\n      <td>Карточка закрыта</td>\n      <td>NaN</td>\n      <td>e6f2d880-447a-4ec3-a48c-abff0047df79</td>\n      <td>...</td>\n      <td>NaN</td>\n      <td>NaN</td>\n      <td>0</td>\n      <td>200</td>\n      <td>NaN</td>\n      <td>NaN</td>\n      <td>NaN</td>\n      <td>NaN</td>\n      <td>NaN</td>\n      <td>NaN</td>\n    </tr>\n  </tbody>\n</table>\n<p>5 rows × 37 columns</p>\n</div>"
     },
     "execution_count": 15,
     "metadata": {},
     "output_type": "execute_result"
    }
   ],
   "source": [
    "df_07_12_2020 = pd.read_pickle(\"..\\data\\\\07-12.2020.pkl\")\n",
    "# df_07_12_2020.columns = df_07_12_2020.iloc[0]\n",
    "# df_07_12_2020.drop(index=df_07_12_2020.index[0], axis=0, inplace=True)\n",
    "df_07_12_2020.head()\n",
    "# df_07_12_2020.to_pickle(\"..\\data\\\\07-12.2020.pkl\")"
   ],
   "metadata": {
    "collapsed": false,
    "ExecuteTime": {
     "end_time": "2024-04-23T20:52:52.401536500Z",
     "start_time": "2024-04-23T20:52:51.248093600Z"
    }
   },
   "id": "8feb53e67568bcde",
   "execution_count": 15
  },
  {
   "cell_type": "code",
   "outputs": [
    {
     "data": {
      "text/plain": "0    cdPn                 hrId                    name  \\\n1  100065  авг11_СлучНабор_213  Случайный набор номера   \n2  100044  авг15_СлучНабор_122  Случайный набор номера   \n3  100105   авг09_Молчание_150       Вызов с молчанием   \n4  100071  авг09_СлучНабор_144  Случайный набор номера   \n5  100071    авг11_Справка_058       Получение справок   \n\n0                    type                                 ierId    level  \\\n1  Случайный набор номера  d0cacbea-1791-4d46-9b4f-ad81009eb164  Обычный   \n2  Случайный набор номера  c3b8c2c3-6419-4b88-bfbb-ad85009a733f  Обычный   \n3       Вызов с молчанием  f3be67f9-83e9-4888-910a-ad7f009ae335  Обычный   \n4  Случайный набор номера  9aea7223-f50b-4deb-a3ee-ad7f009b7079  Обычный   \n5       Получение справок  01966e91-e4b0-4b74-9131-ad81009e4252  Обычный   \n\n0                               point             state action  \\\n1  [{\"lat\": 48.8031, \"lon\": 44.7532}]  Карточка закрыта    NaN   \n2  [{\"lat\": 48.7414, \"lon\": 44.5453}]  Карточка закрыта    NaN   \n3  [{\"lat\": 48.8061, \"lon\": 44.7559}]  Карточка закрыта    NaN   \n4  [{\"lat\": 50.1369, \"lon\": 45.2067}]  Карточка закрыта    NaN   \n5  [{\"lat\": 48.7778, \"lon\": 44.7605}]  Карточка закрыта    NaN   \n\n0                                cardId  ... districtCode streetFiasId  \\\n1  0c9bcba0-de53-4942-83f2-ad81009ee057  ...          NaN          NaN   \n2  963f0751-961a-4761-b205-ad85009a7f89  ...          NaN          NaN   \n3  d404c079-19a0-4a9c-8ca2-ad7f009af53e  ...          NaN          NaN   \n4  eec7d091-7b78-42c8-a732-ad7f009ba1f7  ...          NaN          NaN   \n5  fa17ad19-ba1d-401d-92cf-ad81009e9d03  ...          NaN          NaN   \n\n0 clarification injuredNumber responseStatus actionTimeIsoStr  \\\n1           NaN             0            200              NaN   \n2           NaN             0            200              NaN   \n3           NaN             0            200              NaN   \n4           NaN             0            200              NaN   \n5           NaN             0            200              NaN   \n\n0 assignTimeIsoStr acceptOperatorStr NaN  NaN  \n1              NaN        Operator65 NaN  NaN  \n2              NaN        Operator44 NaN  NaN  \n3              NaN       Operator105 NaN  NaN  \n4              NaN        Operator71 NaN  NaN  \n5              NaN        Operator71 NaN  NaN  \n\n[5 rows x 36 columns]",
      "text/html": "<div>\n<style scoped>\n    .dataframe tbody tr th:only-of-type {\n        vertical-align: middle;\n    }\n\n    .dataframe tbody tr th {\n        vertical-align: top;\n    }\n\n    .dataframe thead th {\n        text-align: right;\n    }\n</style>\n<table border=\"1\" class=\"dataframe\">\n  <thead>\n    <tr style=\"text-align: right;\">\n      <th></th>\n      <th>cdPn</th>\n      <th>hrId</th>\n      <th>name</th>\n      <th>type</th>\n      <th>ierId</th>\n      <th>level</th>\n      <th>point</th>\n      <th>state</th>\n      <th>action</th>\n      <th>cardId</th>\n      <th>...</th>\n      <th>districtCode</th>\n      <th>streetFiasId</th>\n      <th>clarification</th>\n      <th>injuredNumber</th>\n      <th>responseStatus</th>\n      <th>actionTimeIsoStr</th>\n      <th>assignTimeIsoStr</th>\n      <th>acceptOperatorStr</th>\n      <th>NaN</th>\n      <th>NaN</th>\n    </tr>\n  </thead>\n  <tbody>\n    <tr>\n      <th>1</th>\n      <td>100065</td>\n      <td>авг11_СлучНабор_213</td>\n      <td>Случайный набор номера</td>\n      <td>Случайный набор номера</td>\n      <td>d0cacbea-1791-4d46-9b4f-ad81009eb164</td>\n      <td>Обычный</td>\n      <td>[{\"lat\": 48.8031, \"lon\": 44.7532}]</td>\n      <td>Карточка закрыта</td>\n      <td>NaN</td>\n      <td>0c9bcba0-de53-4942-83f2-ad81009ee057</td>\n      <td>...</td>\n      <td>NaN</td>\n      <td>NaN</td>\n      <td>NaN</td>\n      <td>0</td>\n      <td>200</td>\n      <td>NaN</td>\n      <td>NaN</td>\n      <td>Operator65</td>\n      <td>NaN</td>\n      <td>NaN</td>\n    </tr>\n    <tr>\n      <th>2</th>\n      <td>100044</td>\n      <td>авг15_СлучНабор_122</td>\n      <td>Случайный набор номера</td>\n      <td>Случайный набор номера</td>\n      <td>c3b8c2c3-6419-4b88-bfbb-ad85009a733f</td>\n      <td>Обычный</td>\n      <td>[{\"lat\": 48.7414, \"lon\": 44.5453}]</td>\n      <td>Карточка закрыта</td>\n      <td>NaN</td>\n      <td>963f0751-961a-4761-b205-ad85009a7f89</td>\n      <td>...</td>\n      <td>NaN</td>\n      <td>NaN</td>\n      <td>NaN</td>\n      <td>0</td>\n      <td>200</td>\n      <td>NaN</td>\n      <td>NaN</td>\n      <td>Operator44</td>\n      <td>NaN</td>\n      <td>NaN</td>\n    </tr>\n    <tr>\n      <th>3</th>\n      <td>100105</td>\n      <td>авг09_Молчание_150</td>\n      <td>Вызов с молчанием</td>\n      <td>Вызов с молчанием</td>\n      <td>f3be67f9-83e9-4888-910a-ad7f009ae335</td>\n      <td>Обычный</td>\n      <td>[{\"lat\": 48.8061, \"lon\": 44.7559}]</td>\n      <td>Карточка закрыта</td>\n      <td>NaN</td>\n      <td>d404c079-19a0-4a9c-8ca2-ad7f009af53e</td>\n      <td>...</td>\n      <td>NaN</td>\n      <td>NaN</td>\n      <td>NaN</td>\n      <td>0</td>\n      <td>200</td>\n      <td>NaN</td>\n      <td>NaN</td>\n      <td>Operator105</td>\n      <td>NaN</td>\n      <td>NaN</td>\n    </tr>\n    <tr>\n      <th>4</th>\n      <td>100071</td>\n      <td>авг09_СлучНабор_144</td>\n      <td>Случайный набор номера</td>\n      <td>Случайный набор номера</td>\n      <td>9aea7223-f50b-4deb-a3ee-ad7f009b7079</td>\n      <td>Обычный</td>\n      <td>[{\"lat\": 50.1369, \"lon\": 45.2067}]</td>\n      <td>Карточка закрыта</td>\n      <td>NaN</td>\n      <td>eec7d091-7b78-42c8-a732-ad7f009ba1f7</td>\n      <td>...</td>\n      <td>NaN</td>\n      <td>NaN</td>\n      <td>NaN</td>\n      <td>0</td>\n      <td>200</td>\n      <td>NaN</td>\n      <td>NaN</td>\n      <td>Operator71</td>\n      <td>NaN</td>\n      <td>NaN</td>\n    </tr>\n    <tr>\n      <th>5</th>\n      <td>100071</td>\n      <td>авг11_Справка_058</td>\n      <td>Получение справок</td>\n      <td>Получение справок</td>\n      <td>01966e91-e4b0-4b74-9131-ad81009e4252</td>\n      <td>Обычный</td>\n      <td>[{\"lat\": 48.7778, \"lon\": 44.7605}]</td>\n      <td>Карточка закрыта</td>\n      <td>NaN</td>\n      <td>fa17ad19-ba1d-401d-92cf-ad81009e9d03</td>\n      <td>...</td>\n      <td>NaN</td>\n      <td>NaN</td>\n      <td>NaN</td>\n      <td>0</td>\n      <td>200</td>\n      <td>NaN</td>\n      <td>NaN</td>\n      <td>Operator71</td>\n      <td>NaN</td>\n      <td>NaN</td>\n    </tr>\n  </tbody>\n</table>\n<p>5 rows × 36 columns</p>\n</div>"
     },
     "execution_count": 7,
     "metadata": {},
     "output_type": "execute_result"
    }
   ],
   "source": [
    "df_07_12_2021 = pd.read_pickle(\"..\\data\\\\07-12.2021.pkl\")\n",
    "df_07_12_2021.head()"
   ],
   "metadata": {
    "collapsed": false,
    "ExecuteTime": {
     "end_time": "2024-04-23T20:40:23.508251800Z",
     "start_time": "2024-04-23T20:40:22.339692800Z"
    }
   },
   "id": "64fba26354b17138",
   "execution_count": 7
  },
  {
   "cell_type": "code",
   "outputs": [
    {
     "data": {
      "text/plain": "  cdPn cgPn                      hrId                          name  \\\n0              EHM1_окт25_Справка_046             Получение справок   \n1            EHM1_окт25_ЛожнАвтом_112  Автоматические ложные вызовы   \n2             EHM1_окт25_Молчание_326             Вызов с молчанием   \n3             EHM1_окт25_Молчание_325             Вызов с молчанием   \n4            EHM1_окт25_СлучНабор_238        Случайный набор номера   \n\n                           type ierId    level  \\\n0             Получение справок        Обычный   \n1  Автоматические ложные вызовы        Обычный   \n2             Вызов с молчанием        Обычный   \n3             Вызов с молчанием        Обычный   \n4        Случайный набор номера        Обычный   \n\n                                point             state action  ...  \\\n0  [{\"lat\": 50.3481, \"lon\": 44.1335}]  Карточка закрыта         ...   \n1  [{\"lat\": 48.8056, \"lon\": 44.7453}]  Карточка закрыта         ...   \n2  [{\"lat\": 48.8056, \"lon\": 44.7453}]  Карточка закрыта         ...   \n3  [{\"lat\": 48.7566, \"lon\": 44.4581}]  Карточка закрыта         ...   \n4  [{\"lat\": 48.7593, \"lon\": 44.5513}]  Карточка закрыта         ...   \n\n  districtCode streetFiasId clarification injuredNumber responseStatus  \\\n0                                                     0          200.0   \n1                                                     0          200.0   \n2                                                     0          200.0   \n3                                                     0          200.0   \n4                                                     0          200.0   \n\n  actionTimeIsoStr assignTimeIsoStr  acceptOperatorFio acceptOperatorStr  \\\n0                                                                          \n1                                                                          \n2                                                                          \n3                                                                          \n4                                                                          \n\n  Unnamed: 36  \n0         NaN  \n1         NaN  \n2         NaN  \n3         NaN  \n4         NaN  \n\n[5 rows x 37 columns]",
      "text/html": "<div>\n<style scoped>\n    .dataframe tbody tr th:only-of-type {\n        vertical-align: middle;\n    }\n\n    .dataframe tbody tr th {\n        vertical-align: top;\n    }\n\n    .dataframe thead th {\n        text-align: right;\n    }\n</style>\n<table border=\"1\" class=\"dataframe\">\n  <thead>\n    <tr style=\"text-align: right;\">\n      <th></th>\n      <th>cdPn</th>\n      <th>cgPn</th>\n      <th>hrId</th>\n      <th>name</th>\n      <th>type</th>\n      <th>ierId</th>\n      <th>level</th>\n      <th>point</th>\n      <th>state</th>\n      <th>action</th>\n      <th>...</th>\n      <th>districtCode</th>\n      <th>streetFiasId</th>\n      <th>clarification</th>\n      <th>injuredNumber</th>\n      <th>responseStatus</th>\n      <th>actionTimeIsoStr</th>\n      <th>assignTimeIsoStr</th>\n      <th>acceptOperatorFio</th>\n      <th>acceptOperatorStr</th>\n      <th>Unnamed: 36</th>\n    </tr>\n  </thead>\n  <tbody>\n    <tr>\n      <th>0</th>\n      <td></td>\n      <td></td>\n      <td>EHM1_окт25_Справка_046</td>\n      <td>Получение справок</td>\n      <td>Получение справок</td>\n      <td></td>\n      <td>Обычный</td>\n      <td>[{\"lat\": 50.3481, \"lon\": 44.1335}]</td>\n      <td>Карточка закрыта</td>\n      <td></td>\n      <td>...</td>\n      <td></td>\n      <td></td>\n      <td></td>\n      <td>0</td>\n      <td>200.0</td>\n      <td></td>\n      <td></td>\n      <td></td>\n      <td></td>\n      <td>NaN</td>\n    </tr>\n    <tr>\n      <th>1</th>\n      <td></td>\n      <td></td>\n      <td>EHM1_окт25_ЛожнАвтом_112</td>\n      <td>Автоматические ложные вызовы</td>\n      <td>Автоматические ложные вызовы</td>\n      <td></td>\n      <td>Обычный</td>\n      <td>[{\"lat\": 48.8056, \"lon\": 44.7453}]</td>\n      <td>Карточка закрыта</td>\n      <td></td>\n      <td>...</td>\n      <td></td>\n      <td></td>\n      <td></td>\n      <td>0</td>\n      <td>200.0</td>\n      <td></td>\n      <td></td>\n      <td></td>\n      <td></td>\n      <td>NaN</td>\n    </tr>\n    <tr>\n      <th>2</th>\n      <td></td>\n      <td></td>\n      <td>EHM1_окт25_Молчание_326</td>\n      <td>Вызов с молчанием</td>\n      <td>Вызов с молчанием</td>\n      <td></td>\n      <td>Обычный</td>\n      <td>[{\"lat\": 48.8056, \"lon\": 44.7453}]</td>\n      <td>Карточка закрыта</td>\n      <td></td>\n      <td>...</td>\n      <td></td>\n      <td></td>\n      <td></td>\n      <td>0</td>\n      <td>200.0</td>\n      <td></td>\n      <td></td>\n      <td></td>\n      <td></td>\n      <td>NaN</td>\n    </tr>\n    <tr>\n      <th>3</th>\n      <td></td>\n      <td></td>\n      <td>EHM1_окт25_Молчание_325</td>\n      <td>Вызов с молчанием</td>\n      <td>Вызов с молчанием</td>\n      <td></td>\n      <td>Обычный</td>\n      <td>[{\"lat\": 48.7566, \"lon\": 44.4581}]</td>\n      <td>Карточка закрыта</td>\n      <td></td>\n      <td>...</td>\n      <td></td>\n      <td></td>\n      <td></td>\n      <td>0</td>\n      <td>200.0</td>\n      <td></td>\n      <td></td>\n      <td></td>\n      <td></td>\n      <td>NaN</td>\n    </tr>\n    <tr>\n      <th>4</th>\n      <td></td>\n      <td></td>\n      <td>EHM1_окт25_СлучНабор_238</td>\n      <td>Случайный набор номера</td>\n      <td>Случайный набор номера</td>\n      <td></td>\n      <td>Обычный</td>\n      <td>[{\"lat\": 48.7593, \"lon\": 44.5513}]</td>\n      <td>Карточка закрыта</td>\n      <td></td>\n      <td>...</td>\n      <td></td>\n      <td></td>\n      <td></td>\n      <td>0</td>\n      <td>200.0</td>\n      <td></td>\n      <td></td>\n      <td></td>\n      <td></td>\n      <td>NaN</td>\n    </tr>\n  </tbody>\n</table>\n<p>5 rows × 37 columns</p>\n</div>"
     },
     "execution_count": 8,
     "metadata": {},
     "output_type": "execute_result"
    }
   ],
   "source": [
    "df_10_12_2019 = pd.read_pickle(\"..\\data\\\\10-12.2019.pkl\")\n",
    "df_10_12_2019.head()"
   ],
   "metadata": {
    "collapsed": false,
    "ExecuteTime": {
     "end_time": "2024-04-23T20:40:23.991328100Z",
     "start_time": "2024-04-23T20:40:23.504103300Z"
    }
   },
   "id": "9f3e83c659737415",
   "execution_count": 8
  }
 ],
 "metadata": {
  "kernelspec": {
   "display_name": "Python 3",
   "language": "python",
   "name": "python3"
  },
  "language_info": {
   "codemirror_mode": {
    "name": "ipython",
    "version": 2
   },
   "file_extension": ".py",
   "mimetype": "text/x-python",
   "name": "python",
   "nbconvert_exporter": "python",
   "pygments_lexer": "ipython2",
   "version": "2.7.6"
  }
 },
 "nbformat": 4,
 "nbformat_minor": 5
}
