{
 "cells": [
  {
   "cell_type": "code",
   "execution_count": 3,
   "id": "initial_id",
   "metadata": {
    "collapsed": true,
    "ExecuteTime": {
     "end_time": "2024-05-23T04:29:00.017177700Z",
     "start_time": "2024-05-23T04:28:59.803660600Z"
    }
   },
   "outputs": [],
   "source": [
    "import pandas as pd\n",
    "from sklearn.model_selection import train_test_split\n",
    "from sklearn.ensemble import RandomForestClassifier\n",
    "from sklearn.metrics import accuracy_score\n",
    "import database.db as db"
   ]
  },
  {
   "cell_type": "code",
   "outputs": [
    {
     "data": {
      "text/plain": "         latitude  longitude\n0         43.9064    39.3384\n1         44.7603    48.8286\n2         45.0955    38.9236\n3         47.4206    43.6665\n4         47.4370    42.3569\n...           ...        ...\n1030363   59.6684    30.0527\n1030364   59.8135    29.9690\n1030365   59.9132    30.4077\n1030366   59.9488    30.5395\n1030367   59.9500    30.5512\n\n[1030368 rows x 2 columns]",
      "text/html": "<div>\n<style scoped>\n    .dataframe tbody tr th:only-of-type {\n        vertical-align: middle;\n    }\n\n    .dataframe tbody tr th {\n        vertical-align: top;\n    }\n\n    .dataframe thead th {\n        text-align: right;\n    }\n</style>\n<table border=\"1\" class=\"dataframe\">\n  <thead>\n    <tr style=\"text-align: right;\">\n      <th></th>\n      <th>latitude</th>\n      <th>longitude</th>\n    </tr>\n  </thead>\n  <tbody>\n    <tr>\n      <th>0</th>\n      <td>43.9064</td>\n      <td>39.3384</td>\n    </tr>\n    <tr>\n      <th>1</th>\n      <td>44.7603</td>\n      <td>48.8286</td>\n    </tr>\n    <tr>\n      <th>2</th>\n      <td>45.0955</td>\n      <td>38.9236</td>\n    </tr>\n    <tr>\n      <th>3</th>\n      <td>47.4206</td>\n      <td>43.6665</td>\n    </tr>\n    <tr>\n      <th>4</th>\n      <td>47.4370</td>\n      <td>42.3569</td>\n    </tr>\n    <tr>\n      <th>...</th>\n      <td>...</td>\n      <td>...</td>\n    </tr>\n    <tr>\n      <th>1030363</th>\n      <td>59.6684</td>\n      <td>30.0527</td>\n    </tr>\n    <tr>\n      <th>1030364</th>\n      <td>59.8135</td>\n      <td>29.9690</td>\n    </tr>\n    <tr>\n      <th>1030365</th>\n      <td>59.9132</td>\n      <td>30.4077</td>\n    </tr>\n    <tr>\n      <th>1030366</th>\n      <td>59.9488</td>\n      <td>30.5395</td>\n    </tr>\n    <tr>\n      <th>1030367</th>\n      <td>59.9500</td>\n      <td>30.5512</td>\n    </tr>\n  </tbody>\n</table>\n<p>1030368 rows × 2 columns</p>\n</div>"
     },
     "execution_count": 4,
     "metadata": {},
     "output_type": "execute_result"
    }
   ],
   "source": [
    "data = db.EventInfo().select_points_types()\n",
    "df = pd.DataFrame(data)\n",
    "X = df[['latitude', 'longitude']]\n",
    "y = df['type']"
   ],
   "metadata": {
    "collapsed": false,
    "ExecuteTime": {
     "end_time": "2024-05-23T04:29:40.310540100Z",
     "start_time": "2024-05-23T04:29:18.964137200Z"
    }
   },
   "id": "f4b9a87f97cbc906",
   "execution_count": 4
  },
  {
   "cell_type": "code",
   "outputs": [],
   "source": [
    "X_train, X_test, y_train, y_test = train_test_split(X, y, test_size=0.2, random_state=42)"
   ],
   "metadata": {
    "collapsed": false,
    "ExecuteTime": {
     "end_time": "2024-05-23T04:30:37.664332900Z",
     "start_time": "2024-05-23T04:30:37.566360200Z"
    }
   },
   "id": "58cffe3578a69e80",
   "execution_count": 6
  },
  {
   "cell_type": "code",
   "outputs": [
    {
     "name": "stdout",
     "output_type": "stream",
     "text": [
      "Accuracy: 0.5199976707396372\n"
     ]
    }
   ],
   "source": [
    "model = RandomForestClassifier()\n",
    "model.fit(X_train, y_train)\n",
    "y_pred = model.predict(X_test)\n",
    "accuracy = accuracy_score(y_test, y_pred)\n",
    "print('Accuracy:', accuracy)"
   ],
   "metadata": {
    "collapsed": false,
    "ExecuteTime": {
     "end_time": "2024-05-23T04:33:42.902204300Z",
     "start_time": "2024-05-23T04:30:38.686852100Z"
    }
   },
   "id": "276551072ed17283",
   "execution_count": 7
  },
  {
   "cell_type": "code",
   "outputs": [
    {
     "data": {
      "text/plain": "['random_forest_model.joblib']"
     },
     "execution_count": 8,
     "metadata": {},
     "output_type": "execute_result"
    }
   ],
   "source": [
    "from joblib import dump\n",
    "\n",
    "# Сохраняем обученную модель\n",
    "dump(model, 'random_forest_model.joblib')"
   ],
   "metadata": {
    "collapsed": false,
    "ExecuteTime": {
     "end_time": "2024-05-23T04:41:54.013290800Z",
     "start_time": "2024-05-23T04:40:17.614724600Z"
    }
   },
   "id": "b09a82207e8b715",
   "execution_count": 8
  },
  {
   "cell_type": "code",
   "outputs": [
    {
     "name": "stdout",
     "output_type": "stream",
     "text": [
      "Predicted type: ['Семейный конфликт']\n"
     ]
    },
    {
     "name": "stderr",
     "output_type": "stream",
     "text": [
      "D:\\PycharmProjects\\VKR_CK\\.venv\\lib\\site-packages\\sklearn\\base.py:493: UserWarning: X does not have valid feature names, but RandomForestClassifier was fitted with feature names\n",
      "  warnings.warn(\n"
     ]
    }
   ],
   "source": [
    "from joblib import load\n",
    "\n",
    "# Загружаем модель из файла\n",
    "loaded_model = load('random_forest_model.joblib')\n",
    "\n",
    "# Делаем предсказания с помощью загруженной модели\n",
    "new_data = [[1, 2]]\n",
    "prediction = loaded_model.predict(new_data)\n",
    "print('Predicted type:', prediction)\n"
   ],
   "metadata": {
    "collapsed": false,
    "ExecuteTime": {
     "end_time": "2024-05-23T04:53:37.610140Z",
     "start_time": "2024-05-23T04:51:54.065295900Z"
    }
   },
   "id": "d51569c6552345f8",
   "execution_count": 9
  },
  {
   "cell_type": "code",
   "outputs": [
    {
     "name": "stdout",
     "output_type": "stream",
     "text": [
      "Predicted type: ['Семейный конфликт']\n"
     ]
    },
    {
     "name": "stderr",
     "output_type": "stream",
     "text": [
      "D:\\PycharmProjects\\VKR_CK\\.venv\\lib\\site-packages\\sklearn\\base.py:493: UserWarning: X does not have valid feature names, but RandomForestClassifier was fitted with feature names\n",
      "  warnings.warn(\n"
     ]
    }
   ],
   "source": [
    "prediction = loaded_model.predict(new_data)\n",
    "print('Predicted type:', prediction)"
   ],
   "metadata": {
    "collapsed": false,
    "ExecuteTime": {
     "end_time": "2024-05-23T05:04:01.344231100Z",
     "start_time": "2024-05-23T05:04:01.318913200Z"
    }
   },
   "id": "33e0e4d99d7c4d65",
   "execution_count": 10
  },
  {
   "cell_type": "code",
   "outputs": [],
   "source": [],
   "metadata": {
    "collapsed": false
   },
   "id": "bdf5d065630a1fbe"
  }
 ],
 "metadata": {
  "kernelspec": {
   "display_name": "Python 3",
   "language": "python",
   "name": "python3"
  },
  "language_info": {
   "codemirror_mode": {
    "name": "ipython",
    "version": 2
   },
   "file_extension": ".py",
   "mimetype": "text/x-python",
   "name": "python",
   "nbconvert_exporter": "python",
   "pygments_lexer": "ipython2",
   "version": "2.7.6"
  }
 },
 "nbformat": 4,
 "nbformat_minor": 5
}
